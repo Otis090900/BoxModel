{
 "cells": [
  {
   "cell_type": "markdown",
   "metadata": {},
   "source": [
    "# A box model of a subglacial plume"
   ]
  },
  {
   "cell_type": "markdown",
   "metadata": {},
   "source": [
    "Author: Otis Hoffmann"
   ]
  },
  {
   "cell_type": "markdown",
   "metadata": {},
   "source": [
    "### Libraries"
   ]
  },
  {
   "cell_type": "markdown",
   "metadata": {},
   "source": [
    "Importing these libraries allows the use of additional functions and better ways to visualize results."
   ]
  },
  {
   "cell_type": "code",
   "execution_count": 1,
   "metadata": {},
   "outputs": [],
   "source": [
    "import numpy as np\n",
    "import cmocean # for special oceanographic colormaps \n",
    "import matplotlib.pyplot as plt # for plotting and data visualisation\n",
    "import gsw # for calculations with the TEOS-10"
   ]
  },
  {
   "cell_type": "markdown",
   "metadata": {},
   "source": [
    "### Constants"
   ]
  },
  {
   "cell_type": "markdown",
   "metadata": {},
   "source": [
    "Defining empirical constants and coefficients here makes them easier to use later on."
   ]
  },
  {
   "cell_type": "code",
   "execution_count": 2,
   "metadata": {},
   "outputs": [],
   "source": [
    "y1 = -5.73e-2 # Empirical parameters for the freezing temperature equation \n",
    "y2 = 8.32e-2  \n",
    "y3 = 7.61e-4\n",
    "c_i = 2009 # Specific heat capacity ice\n",
    "c_p = 3974 # Specific heat capacity ocean water\n",
    "L = 3.34e5 # Latent heat of fusion\n",
    "St_T = 1.1e-3 # Stranton number temperature\n",
    "St_S = 3.1e-5 # Stranton number salinity\n",
    "E_0 = 3.6e-2 # Entrainment coefficient"
   ]
  },
  {
   "cell_type": "markdown",
   "metadata": {},
   "source": [
    "### Boundary Conditions"
   ]
  },
  {
   "cell_type": "markdown",
   "metadata": {},
   "source": [
    "The boundary conditions for the plume layer underneath the floating ice tongue of 79NG. Can be adapted to fit the plume layer of other glaciers."
   ]
  },
  {
   "cell_type": "code",
   "execution_count": 3,
   "metadata": {},
   "outputs": [],
   "source": [
    "T_i = - 20 # Temperature glacier ice\n",
    "h = 10 # Plume height\n",
    "l = 80000 # Plume length\n",
    "w = 20000 # Plume width\n",
    "z_g = -600 # Grounding line depth\n",
    "z_b = -300 # Average depth of the plume\n",
    "u = 0.2 # Plume velocity\n",
    "A = w * l # Plume area between plume and ice or plume and ambient water\n",
    "V = A * h # Plume Volume\n",
    "sin_alpha = np.sin(np.arctan(np.abs(z_g) / l)) # Sine of the plume's slope\n",
    "gamma_T = St_T * u # Temperature exchange velocity\n",
    "gamma_S = St_S * u # Salinity exchange velocity"
   ]
  },
  {
   "cell_type": "markdown",
   "metadata": {},
   "source": [
    "### Potential temperature and in situ temperature compared"
   ]
  },
  {
   "cell_type": "markdown",
   "metadata": {},
   "source": [
    "A function for the freezing temperature is defined."
   ]
  },
  {
   "cell_type": "code",
   "execution_count": 4,
   "metadata": {},
   "outputs": [],
   "source": [
    "def freeze(S, z_b):\n",
    "    T = y1 * S + y2 + y3 * z_b\n",
    "    return T"
   ]
  },
  {
   "cell_type": "markdown",
   "metadata": {},
   "source": [
    "The graphic created by this section attempts to show that the differentiation between the two temperatures is not necessary."
   ]
  },
  {
   "cell_type": "code",
   "execution_count": 5,
   "metadata": {},
   "outputs": [],
   "source": [
    "S = 30\n",
    "z_bot = -600\n",
    "z_top = 0\n",
    "z_b = np.linspace(z_bot, z_top, 100)\n",
    "p = gsw.p_from_z(z_b, 79)\n",
    "\n",
    "fig = plt.figure(figsize=(6,3), dpi= 200, facecolor='w', edgecolor='k')\n",
    "plt.plot(z_b, freeze(0,z_b), linewidth=0.6, label= '$T_{fr}$ for $S_0$')\n",
    "plt.plot(z_b, gsw.pt0_from_t(0, freeze(0, z_b), p), linewidth=0.6, label= '$T_{pot}$ for $S_0$')\n",
    "plt.plot(z_b, freeze(S,z_b), linewidth=0.6, label= '$T_{fr}$ for $S_{30}$')\n",
    "plt.plot(z_b, gsw.pt0_from_t(S, freeze(S, z_b), p), linewidth=0.6, label= '$T_{pot}$ for $S_{30}$')\n",
    "\n",
    "plt.xlabel('$z_b$ [m]')\n",
    "plt.ylabel('Temperature [°C]')\n",
    "plt.legend()\n",
    "plt.close();"
   ]
  },
  {
   "cell_type": "markdown",
   "metadata": {},
   "source": [
    "### Basal Melting"
   ]
  },
  {
   "cell_type": "markdown",
   "metadata": {},
   "source": [
    "As first part of the model, a function 'basalmelting' to calculate the glaciers melt rate from plume temperature and salinity can be defined. To investigate, whether or not, the average depth of the plume has an impact on the melt rate, it is included as input parameter for the function."
   ]
  },
  {
   "cell_type": "code",
   "execution_count": 6,
   "metadata": {},
   "outputs": [],
   "source": [
    "s_yr = 3600 * 24 * 365 # From seconds to years"
   ]
  },
  {
   "cell_type": "code",
   "execution_count": 7,
   "metadata": {},
   "outputs": [],
   "source": [
    "def basalmelting(S, T, z_b):\n",
    "    a = y1 * (gamma_T - gamma_S * c_i/c_p)\n",
    "    b = gamma_T * (y2 + y3 * z_b - T) + gamma_S/c_p * (c_i * (y1* S - y2 - y3 * z_b + T_i) - L)\n",
    "    c = (gamma_S * S) / c_p * (c_i * (y3 * z_b - T_i) + L)\n",
    "    S_b = - (b + np.sqrt(b ** 2 - 4 * a * c)) / (2 * a)\n",
    "    T_b = y1 * S_b + y2 + y3 * z_b\n",
    "    v_b = (gamma_S * (S - S_b)) / S_b\n",
    "    return {\n",
    "        \"S_b\": S_b,\n",
    "        \"T_b\": T_b,\n",
    "        \"v_b\": v_b * s_yr, # Melt rate in m/y\n",
    "    }"
   ]
  },
  {
   "cell_type": "code",
   "execution_count": 8,
   "metadata": {},
   "outputs": [
    {
     "data": {
      "text/plain": [
       "16.966925668608255"
      ]
     },
     "execution_count": 8,
     "metadata": {},
     "output_type": "execute_result"
    }
   ],
   "source": [
    "basalmelting(30, -1.5, -300)[\"v_b\"]"
   ]
  },
  {
   "cell_type": "markdown",
   "metadata": {},
   "source": [
    "Below, an examplary visualization for how the melt rate function works is demonstrated. In this case for a salinity of $S$ =30 g/kg and $T$ in a range from freezing temperature to 0°C."
   ]
  },
  {
   "cell_type": "code",
   "execution_count": 9,
   "metadata": {},
   "outputs": [],
   "source": [
    "S = 30\n",
    "T_max = 0\n",
    "z_b = -300\n",
    "T_fr = freeze(S,z_b)\n",
    "T = np.linspace(T_fr, T_max, 100)\n",
    "fig = plt.figure(figsize=(6,3), dpi= 200, facecolor='w', edgecolor='k')\n",
    "plt.plot(T, basalmelting(S, T, z_b)[\"v_b\"], linewidth=1.2, label= 'Melt rate')\n",
    "plt.xlabel('$T$ [°C]')\n",
    "plt.ylabel('$v_b$ [m/y]')\n",
    "x = [T_fr, T_max]\n",
    "y = [basalmelting(S, T_fr, z_b)[\"v_b\"], basalmelting(S, T_max, z_b)[\"v_b\"]]\n",
    "plt.plot(x, y, linewidth = 0.8, label = 'Linear reference curve')\n",
    "plt.scatter(T_fr, basalmelting(S, T_fr, z_b)[\"v_b\"], marker='+', c='red', s=90, linewidth=1, label= 'Freezing point')\n",
    "plt.legend()\n",
    "plt.close();"
   ]
  },
  {
   "cell_type": "markdown",
   "metadata": {},
   "source": [
    "Same graphic but for different depths of the plume layer."
   ]
  },
  {
   "cell_type": "code",
   "execution_count": 10,
   "metadata": {},
   "outputs": [],
   "source": [
    "S = 30\n",
    "T = -1.5\n",
    "z_bot = -600\n",
    "z_top = 0\n",
    "z_b = np.linspace(z_bot, z_top, 100)\n",
    "\n",
    "fig = plt.figure(figsize=(6,3), dpi= 200, facecolor='w', edgecolor='k')\n",
    "plt.plot(z_b, basalmelting(S, T, z_b)[\"v_b\"], linewidth=1.2, label= 'Melt rate')\n",
    "plt.xlabel('$z_b$ [m]')\n",
    "plt.ylabel('$v_b$ [m/y]')\n",
    "plt.close();"
   ]
  },
  {
   "cell_type": "markdown",
   "metadata": {},
   "source": [
    "## The box model"
   ]
  },
  {
   "cell_type": "markdown",
   "metadata": {},
   "source": [
    "For the loop of iterations, the parameters for subglacial discharge and entrainment are calculated."
   ]
  },
  {
   "cell_type": "code",
   "execution_count": 11,
   "metadata": {},
   "outputs": [],
   "source": [
    "S_g = 0 # The water discharged is freshwater from the glacier ice\n",
    "T_g =freeze(S_g, z_g) # Potential discharge temperature\n",
    "\n",
    "v_e = E_0 * u * sin_alpha # Entrainment velocity\n",
    "Q_a = v_e * A # Entrainment transport"
   ]
  },
  {
   "cell_type": "markdown",
   "metadata": {},
   "source": [
    "Timestep $\\Delta t$ and number of iterations $N$ determine the accuracy and computation time of the model."
   ]
  },
  {
   "cell_type": "code",
   "execution_count": 12,
   "metadata": {},
   "outputs": [],
   "source": [
    "dt = 10000\n",
    "N = 200"
   ]
  },
  {
   "cell_type": "markdown",
   "metadata": {},
   "source": [
    "The function 'boxmodel' can now be defined and used to calculate the meltrate of the glacier as well as other values that might be of interest in a for loop. Input variables will be the salinity and potential temperatures of the ambient water as well as the transport from subglacial discharge."
   ]
  },
  {
   "cell_type": "code",
   "execution_count": 13,
   "metadata": {},
   "outputs": [],
   "source": [
    "def boxmodel(S_a, T_a, Q_g, z_b):\n",
    "\n",
    "    # empty arrays for values of interest\n",
    "    v_b_n = np.full(N, np.nan)\n",
    "    S_n = np.full(N, np.nan)\n",
    "    T_n = np.full(N, np.nan)\n",
    "    Q_m_n = np.full(N, np.nan)\n",
    "    Q_out_n = np.full(N, np.nan)\n",
    "    S_b_n = np.full(N, np.nan)\n",
    "    T_b_n = np.full(N, np.nan)\n",
    "    \n",
    "    S = 30 # starting value for the plume\n",
    "    T = freeze(S, z_b)\n",
    "    \n",
    "    for i in range(N):\n",
    "        # basal melting\n",
    "        bmelt = basalmelting(S, T, z_b)\n",
    "        S_b = bmelt[\"S_b\"]\n",
    "        T_b = bmelt[\"T_b\"]\n",
    "        v_b = (gamma_S * (S - S_b)) / S_b # Calling the 'basalmelting' function instead does not seem to work\n",
    "        Q_m = v_b * A\n",
    "        \n",
    "        # plume parameters\n",
    "        Q = - (Q_g + Q_m + Q_a)\n",
    "        S = (Q_a * S_a + V/dt * S) / (V/dt - Q)\n",
    "        T = (Q_a * T_a + Q_g * T_g + (Q_m + A * gamma_T) * T_b + V/dt * T) / (V/dt - Q + A * gamma_T)\n",
    "        \n",
    "        # filling of the arrays to be returned by the function\n",
    "        v_b_n[i] = v_b\n",
    "        S_n[i] = S\n",
    "        T_n[i] = T\n",
    "        S_b_n[i] = S_b\n",
    "        T_b_n[i] = T_b\n",
    "        Q_m_n[i] = Q_m\n",
    "        Q_out_n[i] = Q\n",
    "        \n",
    "    return {\n",
    "        \"v_b\": v_b_n * s_yr,\n",
    "        \"S\": S_n,\n",
    "        \"T\": T_n,\n",
    "        \"S_b\": S_b_n,\n",
    "        \"T_b\": T_b_n,\n",
    "        \"Q_m\": Q_m_n,\n",
    "        \"Q_out\": Q_out_n,\n",
    "    }"
   ]
  },
  {
   "cell_type": "markdown",
   "metadata": {},
   "source": [
    "### The model applied"
   ]
  },
  {
   "cell_type": "markdown",
   "metadata": {},
   "source": [
    "The values determined by the function can be saved in a dictionary to be visualized or used later on."
   ]
  },
  {
   "cell_type": "code",
   "execution_count": 14,
   "metadata": {},
   "outputs": [],
   "source": [
    "S_a = 33\n",
    "T_a = -1\n",
    "Q_g = 70\n",
    "z_b = -300\n",
    "result = boxmodel(S_a, T_a, Q_g, z_b)\n"
   ]
  },
  {
   "cell_type": "markdown",
   "metadata": {},
   "source": [
    "Some other scenarios can be calculated and compared"
   ]
  },
  {
   "cell_type": "code",
   "execution_count": 15,
   "metadata": {},
   "outputs": [],
   "source": [
    "future = boxmodel(35, 0, 70, -300)\n",
    "adaptedQ_g = boxmodel(35, 0, 144.8, -300)"
   ]
  },
  {
   "cell_type": "code",
   "execution_count": 16,
   "metadata": {},
   "outputs": [],
   "source": [
    "time = np.arange(0, N, 1) * dt / 60 / 60 / 24 # time in days\n",
    "\n",
    "fig = plt.figure(figsize=(6,3), dpi= 200, facecolor='w', edgecolor='k')\n",
    "plt.plot(time, result['T'], linewidth=1.2, label = '$T$')\n",
    "plt.plot(time, future['T_b'], linewidth=1.2, label = '$T_b$')\n",
    "plt.xlabel('Time [days]')\n",
    "plt.ylabel('Temperature [°C]')\n",
    "plt.legend()\n",
    "plt.close();"
   ]
  },
  {
   "cell_type": "markdown",
   "metadata": {},
   "source": [
    "Of special interest here are the melt rate in meters per year, as well as the ratio between transport from melting and transport from subglacial discharge. Both are shown below, with the time axis in days to get a better idea of the time scales. Added aswell are two other scenarios to show different outcomes for different environmental parameters."
   ]
  },
  {
   "cell_type": "code",
   "execution_count": 17,
   "metadata": {},
   "outputs": [],
   "source": [
    "time = np.arange(0, N, 1) * dt / 60 / 60 / 24 # time in days\n",
    "\n",
    "fig = plt.figure(figsize=(6,3), dpi= 200, facecolor='w', edgecolor='k')\n",
    "plt.plot(time, result['v_b'], linewidth=1.2, label = 'Present Scenario')\n",
    "plt.plot(time, future['v_b'], linewidth=1.2, label = 'Future Scenario')\n",
    "plt.plot(time, adaptedQ_g['v_b'], linewidth=1.2, label = 'Adapted $Q_g$', c = \"k\", linestyle =  (0, (3, 5)))\n",
    "plt.xlabel('Time [days]')\n",
    "plt.ylabel('$v_b$ [m/y]')\n",
    "plt.legend()\n",
    "plt.close();"
   ]
  },
  {
   "cell_type": "code",
   "execution_count": 18,
   "metadata": {},
   "outputs": [],
   "source": [
    "fig = plt.figure(figsize=(6,3), dpi= 200, facecolor='w', edgecolor='k')\n",
    "plt.plot(time, result['Q_m'] / Q_g, linewidth=1.2, label = 'Present Scenario')\n",
    "plt.plot(time, adaptedQ_g['Q_m'] / 144.8, linewidth=1.2, label = 'Adapted $Q_g$', c = \"k\", linestyle =  (0, (3, 5)))\n",
    "plt.plot(time, future['Q_m'] / Q_g, linewidth=1.2, label = 'Future Scenario')\n",
    "plt.xlabel('Time [days]')\n",
    "plt.ylabel('$Q_m/Q_g$')\n",
    "plt.legend()\n",
    "plt.close();"
   ]
  },
  {
   "cell_type": "markdown",
   "metadata": {},
   "source": [
    "## Sensitivity Study"
   ]
  },
  {
   "cell_type": "markdown",
   "metadata": {},
   "source": [
    "Out of the environmental parameters $T_a$, $S_a$, $Q_g$ and the average depth of the plume layer $z_b$, one is varied while the others remain constant to see how the model reacts to the change. The constant parameters are the ones used in the present scenario."
   ]
  },
  {
   "cell_type": "code",
   "execution_count": 19,
   "metadata": {},
   "outputs": [],
   "source": [
    "T_a = -1\n",
    "S_a = 33\n",
    "Q_g = 70\n",
    "z_b = -300"
   ]
  },
  {
   "cell_type": "markdown",
   "metadata": {},
   "source": [
    "For this case, the development of values during the loop are not relevant. The new function \"sens_study\" works just like \"boxmodel\" but only returns the last calculated value. This allows for arrays as input parameters."
   ]
  },
  {
   "cell_type": "code",
   "execution_count": 20,
   "metadata": {},
   "outputs": [],
   "source": [
    "def sens_study(S_a, T_a, Q_g, z_b): \n",
    "    S = 30 # starting value for the plume\n",
    "    T = freeze(S, z_b)\n",
    "    \n",
    "    for i in range(N):\n",
    "        # basal melting\n",
    "        bmelt = basalmelting(S, T, z_b)\n",
    "        S_b = bmelt[\"S_b\"]\n",
    "        T_b = bmelt[\"T_b\"]\n",
    "        v_b = (gamma_S * (S - S_b)) / S_b # Calling the 'basalmelting' function instead does not seem to work\n",
    "        Q_m = v_b * A\n",
    "        \n",
    "        # plume parameters\n",
    "        Q = - (Q_g + Q_m + Q_a)\n",
    "        S = (Q_a * S_a + V/dt * S) / (V/dt - Q)\n",
    "        T = (Q_a * T_a + Q_g * T_g + (Q_m + A * gamma_T) * T_b + V/dt * T) / (V/dt - Q + A * gamma_T)\n",
    "        \n",
    "    return {\n",
    "        \"v_b\": v_b * s_yr,\n",
    "        \"S\": S,\n",
    "        \"T\": T,\n",
    "        \"S_b\": S_b,\n",
    "        \"T_b\": T_b,\n",
    "        \"Q_m\": Q_m,\n",
    "        \"Q_out\": Q,\n",
    "    }"
   ]
  },
  {
   "cell_type": "markdown",
   "metadata": {},
   "source": [
    "### Varying the ambient water temperature $T_a$"
   ]
  },
  {
   "cell_type": "code",
   "execution_count": 21,
   "metadata": {},
   "outputs": [],
   "source": [
    "S_a = 33\n",
    "Q_g = 70\n",
    "z_b = -300\n",
    "T_bot = -2\n",
    "T_top = 2\n",
    "T_a = np.linspace(T_bot, T_top, 100)\n",
    "    \n",
    "fig, axs = plt.subplots(3, figsize=(9,9))\n",
    "axs[0].plot(T_a, sens_study(S_a, T_a, Q_g, z_b)[\"v_b\"], linewidth=1.2)\n",
    "axs[0].set_ylabel('$v_b$ [m/y]')\n",
    "axs[1].plot(T_a, sens_study(S_a, T_a, Q_g, z_b)[\"S\"], linewidth=1.2, label= '$S$')\n",
    "axs[1].plot(T_a, sens_study(S_a, T_a, Q_g, z_b)[\"S_b\"], linewidth=1.2, label= '$S_b$')\n",
    "axs[1].set_ylabel('Salinity [g/kg]')\n",
    "axs[1].legend()\n",
    "axs[2].plot(T_a, sens_study(S_a, T_a, Q_g, z_b)[\"T\"], linewidth=1.2, label= '$T$')\n",
    "axs[2].plot(T_a, sens_study(S_a, T_a, Q_g, z_b)[\"T_b\"], linewidth=1.2, label= '$T_b$')\n",
    "axs[2].set_xlabel('$T_a$ [°C]')\n",
    "axs[2].set_ylabel('Temperature [°C]')\n",
    "axs[2].legend()\n",
    "plt.close();"
   ]
  },
  {
   "cell_type": "markdown",
   "metadata": {},
   "source": [
    "### Varying the ambient water salinity $S_a$"
   ]
  },
  {
   "cell_type": "code",
   "execution_count": 22,
   "metadata": {},
   "outputs": [],
   "source": [
    "T_a = -1\n",
    "Q_g = 70\n",
    "z_b = -300\n",
    "S_bot = 30\n",
    "S_top = 35\n",
    "S_a = np.linspace(S_bot, S_top, 100)\n",
    "    \n",
    "fig, axs = plt.subplots(3, figsize=(9,9))\n",
    "axs[0].plot(S_a, sens_study(S_a, T_a, Q_g, z_b)[\"v_b\"], linewidth=1.2)\n",
    "axs[0].set_ylabel('$v_b$ [m/y]')\n",
    "axs[1].plot(S_a, sens_study(S_a, T_a, Q_g, z_b)[\"S\"], linewidth=1.2, label= '$S$')\n",
    "axs[1].plot(S_a, sens_study(S_a, T_a, Q_g, z_b)[\"S_b\"], linewidth=1.2, label= '$S_b$')\n",
    "axs[1].set_ylabel('Salinity [g/kg]')\n",
    "axs[1].legend()\n",
    "axs[2].plot(S_a, sens_study(S_a, T_a, Q_g, z_b)[\"T\"], linewidth=1.2, label= '$T$')\n",
    "axs[2].plot(S_a, sens_study(S_a, T_a, Q_g, z_b)[\"T_b\"], linewidth=1.2, label= '$T_b$')\n",
    "axs[2].set_xlabel('$S_a$ [g/kg]')\n",
    "axs[2].set_ylabel('Temperature [°C]')\n",
    "axs[2].legend()\n",
    "plt.close();"
   ]
  },
  {
   "cell_type": "markdown",
   "metadata": {},
   "source": [
    "### Varying the transport from subglacial discharge $Q_g$"
   ]
  },
  {
   "cell_type": "code",
   "execution_count": 23,
   "metadata": {},
   "outputs": [],
   "source": [
    "T_a = -1\n",
    "S_a = 33\n",
    "z_b = -300\n",
    "Q_bot = 10\n",
    "Q_top = 1000\n",
    "Q_g = np.linspace(Q_bot, Q_top, 100)\n",
    "    \n",
    "fig, axs = plt.subplots(3, figsize=(9,9))\n",
    "axs[0].plot(Q_g, sens_study(S_a, T_a, Q_g, z_b)[\"v_b\"], linewidth=1.2)\n",
    "axs[0].set_ylabel('$v_b$ [m/y]')\n",
    "axs[1].plot(Q_g, sens_study(S_a, T_a, Q_g, z_b)[\"S\"], linewidth=1.2, label= '$S$')\n",
    "axs[1].plot(Q_g, sens_study(S_a, T_a, Q_g, z_b)[\"S_b\"], linewidth=1.2, label= '$S_b$')\n",
    "axs[1].set_ylabel('Salinity [g/kg]')\n",
    "axs[1].legend()\n",
    "axs[2].plot(Q_g, sens_study(S_a, T_a, Q_g, z_b)[\"T\"], linewidth=1.2, label= '$T$')\n",
    "axs[2].plot(Q_g, sens_study(S_a, T_a, Q_g, z_b)[\"T_b\"], linewidth=1.2, label= '$T_b$')\n",
    "axs[2].set_xlabel('$Q_g$ [$m^3$/s]')\n",
    "axs[2].set_ylabel('Temperature [°C]')\n",
    "axs[2].legend()\n",
    "plt.close();"
   ]
  },
  {
   "cell_type": "markdown",
   "metadata": {},
   "source": [
    "### Varying the average depth of the plume layer $z_b$"
   ]
  },
  {
   "cell_type": "code",
   "execution_count": 24,
   "metadata": {},
   "outputs": [],
   "source": [
    "T_a = -1\n",
    "S_a = 33\n",
    "Q_g = 70\n",
    "z_bot = -600\n",
    "z_top = 0\n",
    "z_b = np.linspace(z_bot, z_top, 100)\n",
    "    \n",
    "fig, axs = plt.subplots(3, figsize=(9,9))\n",
    "axs[0].plot(z_b, sens_study(S_a, T_a, Q_g, z_b)[\"v_b\"], linewidth=1.2)\n",
    "axs[0].set_ylabel('$v_b$ [m/y]')\n",
    "axs[1].plot(z_b, sens_study(S_a, T_a, Q_g, z_b)[\"S\"], linewidth=1.2, label= '$S$')\n",
    "axs[1].plot(z_b, sens_study(S_a, T_a, Q_g, z_b)[\"S_b\"], linewidth=1.2, label= '$S_b$')\n",
    "axs[1].set_ylabel('Salinity [g/kg]')\n",
    "axs[1].legend()\n",
    "axs[2].plot(z_b, sens_study(S_a, T_a, Q_g, z_b)[\"T\"], linewidth=1.2, label= '$T$')\n",
    "axs[2].plot(z_b, sens_study(S_a, T_a, Q_g, z_b)[\"T_b\"], linewidth=1.2, label= '$T_b$')\n",
    "axs[2].plot(z_b, y1*S_a+y2+y3*z_b, linewidth=1.2, label= '$T_{fr}$') # adding the freezing temperature\n",
    "axs[2].set_xlabel('$z_b$ [°C]')\n",
    "axs[2].set_ylabel('Temperature [°C]')\n",
    "axs[2].legend()\n",
    "plt.close();"
   ]
  },
  {
   "cell_type": "markdown",
   "metadata": {},
   "source": [
    "## Varying multiple parameters"
   ]
  },
  {
   "cell_type": "markdown",
   "metadata": {},
   "source": [
    "It is very unlikely that only one of the parameters will change so color maps are used to simulate a more realistic scenario where two parameters change. The most interesting ones are the temperature and salinity of the ambient water, the patter below can be adapted to any other combination however. To create the color maps, the function 'variation' is defined. X is the resolution of the colormap."
   ]
  },
  {
   "cell_type": "code",
   "execution_count": 25,
   "metadata": {},
   "outputs": [],
   "source": [
    "def variation(S_bot, S_top, T_bot, T_top, Q_g, z_b, Quantity, X):\n",
    "    colormap = np.zeros((X,X))\n",
    "    for i in range(0, X):\n",
    "        for k in range(0, X):\n",
    "            salt = S_bot + i * (S_top - S_bot) / X\n",
    "            temp = T_bot + k * (T_top - T_bot) / X\n",
    "            if temp >= y1 * salt + y2 + y3 * z_b:\n",
    "                colormap[i,k] = sens_study(salt, temp, Q_g, z_b)[Quantity]\n",
    "            else:\n",
    "                colormap[i,k] = np.nan\n",
    "    return colormap.transpose()"
   ]
  },
  {
   "cell_type": "code",
   "execution_count": 26,
   "metadata": {},
   "outputs": [],
   "source": [
    "S_bot = 30\n",
    "S_top = 35\n",
    "T_bot = -2\n",
    "T_top = 2\n",
    "Q_g = 70\n",
    "z_b = -300\n",
    "X = 200\n",
    "\n",
    "Salinity = np.arange(S_bot, S_top + (S_top-S_bot) / X, (S_top-S_bot) / (X-1))\n",
    "Freeze = y1 * Salinity + y2 + y3* z_b\n",
    "Temperature = np.arange(T_bot, T_top + (T_top-T_bot) / X, (T_top-T_bot) / (X-1))"
   ]
  },
  {
   "cell_type": "markdown",
   "metadata": {},
   "source": [
    "The results can then be plotted using the 'cmocean' package"
   ]
  },
  {
   "cell_type": "markdown",
   "metadata": {},
   "source": [
    "#### Melt rate $v_b$"
   ]
  },
  {
   "cell_type": "code",
   "execution_count": 27,
   "metadata": {},
   "outputs": [],
   "source": [
    "v_b_Ta_Sa = variation(S_bot, S_top, T_bot, T_top, Q_g, z_b, \"v_b\", X)"
   ]
  },
  {
   "cell_type": "code",
   "execution_count": 28,
   "metadata": {},
   "outputs": [],
   "source": [
    "fig = plt.figure(figsize=(6,3), dpi= 200, facecolor='w', edgecolor='k')\n",
    "im = plt.contourf(Salinity, Temperature, v_b_Ta_Sa,levels=40,cmap=cmocean.cm.speed)\n",
    "plt.colorbar(label = '$v_b$ [m/y]')\n",
    "plt.plot(Salinity, Freeze, color= 'red', linewidth = 1)\n",
    "plt.xlabel('$S_a$ [g/kg]')\n",
    "plt.ylabel('$T_a$ [°C]')\n",
    "plt.close();"
   ]
  },
  {
   "cell_type": "markdown",
   "metadata": {},
   "source": [
    "#### Plume temperature $T$"
   ]
  },
  {
   "cell_type": "code",
   "execution_count": 29,
   "metadata": {},
   "outputs": [],
   "source": [
    "T_Ta_Sa = variation(S_bot, S_top, T_bot, T_top, Q_g, z_b, \"T\", X)"
   ]
  },
  {
   "cell_type": "code",
   "execution_count": 30,
   "metadata": {},
   "outputs": [],
   "source": [
    "fig = plt.figure(figsize=(6,3), dpi= 200, facecolor='w', edgecolor='k')\n",
    "im = plt.contourf(Salinity, Temperature, T_Ta_Sa,levels=40,cmap=cmocean.cm.thermal)\n",
    "plt.colorbar(label = '$T$ [°C]')\n",
    "plt.plot(Salinity, Freeze, color= 'red', linewidth = 1)\n",
    "plt.xlabel('$S_a$ [g/kg]')\n",
    "plt.ylabel('$T_a$ [°C]')\n",
    "plt.close();"
   ]
  },
  {
   "cell_type": "markdown",
   "metadata": {},
   "source": [
    "#### Melt layer temperature $T_b$"
   ]
  },
  {
   "cell_type": "code",
   "execution_count": 31,
   "metadata": {},
   "outputs": [],
   "source": [
    "Tb_Ta_Sa = variation(S_bot, S_top, T_bot, T_top, Q_g, z_b, \"T_b\", X)"
   ]
  },
  {
   "cell_type": "code",
   "execution_count": 32,
   "metadata": {},
   "outputs": [],
   "source": [
    "fig = plt.figure(figsize=(6,3), dpi= 200, facecolor='w', edgecolor='k')\n",
    "im = plt.contourf(Salinity, Temperature, Tb_Ta_Sa,levels=40,cmap=cmocean.cm.thermal)\n",
    "plt.colorbar(label = '$T_b$ [°C]')\n",
    "plt.plot(Salinity, Freeze, color= 'red', linewidth = 1)\n",
    "plt.xlabel('$S_a$ [g/kg]')\n",
    "plt.ylabel('$T_a$ [°C]')\n",
    "plt.close();"
   ]
  },
  {
   "cell_type": "markdown",
   "metadata": {},
   "source": [
    "#### Plume salinity $S$"
   ]
  },
  {
   "cell_type": "code",
   "execution_count": 33,
   "metadata": {},
   "outputs": [],
   "source": [
    "S_Ta_Sa = variation(S_bot, S_top, T_bot, T_top, Q_g, z_b, \"S\", X)"
   ]
  },
  {
   "cell_type": "code",
   "execution_count": 34,
   "metadata": {},
   "outputs": [],
   "source": [
    "fig = plt.figure(figsize=(6,3), dpi= 200, facecolor='w', edgecolor='k')\n",
    "im = plt.contourf(Salinity, Temperature, S_Ta_Sa,levels=40,cmap=cmocean.cm.haline)\n",
    "plt.colorbar(label = '$S$ [g/kg]')\n",
    "plt.plot(Salinity, Freeze, color= 'red', linewidth = 1)\n",
    "plt.xlabel('$S_a$ [g/kg]')\n",
    "plt.ylabel('$T_a$ [°C]')\n",
    "plt.close();"
   ]
  },
  {
   "cell_type": "markdown",
   "metadata": {},
   "source": [
    "#### Salinity melt layer $S_b$"
   ]
  },
  {
   "cell_type": "code",
   "execution_count": 35,
   "metadata": {},
   "outputs": [],
   "source": [
    "Sb_Ta_Sa = variation(S_bot, S_top, T_bot, T_top, Q_g, z_b, \"S_b\", X)"
   ]
  },
  {
   "cell_type": "code",
   "execution_count": 36,
   "metadata": {},
   "outputs": [],
   "source": [
    "fig = plt.figure(figsize=(6,3), dpi= 200, facecolor='w', edgecolor='k')\n",
    "im = plt.contourf(Salinity, Temperature, Sb_Ta_Sa,levels=40,cmap=cmocean.cm.haline)\n",
    "plt.colorbar(label = '$S_b$ [g/kg]')\n",
    "plt.plot(Salinity, Freeze, color= 'red', linewidth = 1)\n",
    "plt.xlabel('$S_a$ [g/kg]')\n",
    "plt.ylabel('$T_a$ [°C]')\n",
    "plt.close();"
   ]
  },
  {
   "cell_type": "markdown",
   "metadata": {},
   "source": [
    "#### Melt rate for changing $Q_g$"
   ]
  },
  {
   "cell_type": "code",
   "execution_count": 37,
   "metadata": {},
   "outputs": [],
   "source": [
    "DeltaMR_Q = variation(S_bot, S_top, T_bot, T_top, Q_g, z_b, \"v_b\", X) - variation(S_bot, S_top, T_bot, T_top, 1000, z_b, \"v_b\", X)"
   ]
  },
  {
   "cell_type": "code",
   "execution_count": 38,
   "metadata": {},
   "outputs": [],
   "source": [
    "fig = plt.figure(figsize=(6,3), dpi= 200, facecolor='w', edgecolor='k')\n",
    "im = plt.contourf(Salinity, Temperature, DeltaMR_Q, levels = 40, cmap=cmocean.cm.dense)\n",
    "plt.colorbar(label = '$v_b$ [m/y]')\n",
    "plt.plot(Salinity, Freeze, color= 'red', linewidth = 1)\n",
    "plt.xlabel('$S_a$ [g/kg]')\n",
    "plt.ylabel('$T_a$ [°C]')\n",
    "plt.close();"
   ]
  },
  {
   "cell_type": "markdown",
   "metadata": {},
   "source": [
    "#### Melt rate for changing $z_b$"
   ]
  },
  {
   "cell_type": "code",
   "execution_count": 39,
   "metadata": {},
   "outputs": [],
   "source": [
    "DeltaMR_z = variation(S_bot, S_top, T_bot, T_top, Q_g, z_b, \"v_b\", X) - variation(S_bot, S_top, T_bot, T_top, Q_g, -50, \"v_b\", X)"
   ]
  },
  {
   "cell_type": "code",
   "execution_count": 40,
   "metadata": {},
   "outputs": [],
   "source": [
    "fig = plt.figure(figsize=(6,3), dpi= 200, facecolor='w', edgecolor='k')\n",
    "im = plt.contourf(Salinity, Temperature, DeltaMR_z, levels = 40, cmap=cmocean.cm.dense)\n",
    "plt.colorbar(label = '$v_b$ [m/y]')\n",
    "plt.plot(Salinity, Freeze, color= 'red', linewidth = 1)\n",
    "plt.xlabel('$S_a$ [g/kg]')\n",
    "plt.ylabel('$T_a$ [°C]')\n",
    "plt.close();"
   ]
  }
 ],
 "metadata": {
  "kernelspec": {
   "display_name": "Python 3",
   "language": "python",
   "name": "python3"
  },
  "language_info": {
   "codemirror_mode": {
    "name": "ipython",
    "version": 3
   },
   "file_extension": ".py",
   "mimetype": "text/x-python",
   "name": "python",
   "nbconvert_exporter": "python",
   "pygments_lexer": "ipython3",
   "version": "3.8.5"
  }
 },
 "nbformat": 4,
 "nbformat_minor": 4
}
